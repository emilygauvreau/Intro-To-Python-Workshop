{
  "nbformat": 4,
  "nbformat_minor": 0,
  "metadata": {
    "colab": {
      "name": "McWiCS Intro to Python Workshop.ipynb",
      "provenance": [],
      "collapsed_sections": []
    },
    "kernelspec": {
      "name": "python3",
      "display_name": "Python 3"
    },
    "language_info": {
      "name": "python"
    }
  },
  "cells": [
    {
      "cell_type": "markdown",
      "metadata": {
        "id": "kgpNZCJBjY_L"
      },
      "source": [
        "# Overview\n",
        "\n",
        "Authored By: Emily Gauvreau and Nikita Patel"
      ]
    },
    {
      "cell_type": "markdown",
      "metadata": {
        "id": "Sz7L9zuqd3RM"
      },
      "source": [
        "Welcome to your Introduction to Python Workshop!\n",
        "\n",
        "Today will cover the basics in order to get you familiar with general coding concepts as well as Python syntax. \n",
        "\n",
        "Python is arguably one of the most user-friendly languages. The syntax is fairly general and easy to learn and a lot of the conditionals and loops that we write such as if statements read exactly as you would write them in english. \n",
        "\n",
        "Some beginner topics we will cover are:\n",
        "- Variables\n",
        "- Operations\n",
        "- If, Elif, and Else statements\n",
        "- For and While Loops\n",
        "- Writing a Function\n",
        "- Control Flow\n",
        "\n",
        "With these concepts we will work through short examples so you can gain confidence with the topics. Towards the end of the workshop we will put everything we've learned together in order to write your own program!\n",
        "\n",
        "\n"
      ]
    },
    {
      "cell_type": "markdown",
      "metadata": {
        "id": "qi4FM1pBfHsT"
      },
      "source": [
        "Let's start off with introducing you to the file type we are working with. Most files will end with the extension `.py` these signify that they are Python files and tell your computer what language to execute them in.  With this extension it is more likely that the code will exist in the file and when you execute it all of the output will print to a separate terminal window.\n",
        "\n",
        "This particular file is a `.ipynb` it is a type of Python file where both the input and the output are visible in the same file.\n"
      ]
    },
    {
      "cell_type": "markdown",
      "metadata": {
        "id": "Gctqzsoiirnt"
      },
      "source": [
        "You can press the play button on the left side of the code blocks to run the code they contain. Alternatively, you can click on a code block and hit `shift + enter` as a shortcut."
      ]
    },
    {
      "cell_type": "markdown",
      "metadata": {
        "id": "NRJ3043CT7D-"
      },
      "source": [
        "# Coding Best Practices\n",
        "\n",
        "Every developer has their own sense of style when it comes to coding. That style can be whatever you like as long as it is clean and easy to read. The goal is to make your code organized in such a way that a new programmer could look at it and understand what is happening. \n",
        "\n",
        "A big portion of organizing is proper commenting. \n",
        "\n",
        "A comment is a part of your code, denoted by a `#` that will not be run and shown in the output of your solution. \n",
        "\n",
        "Run the following block and you will see that only the second line will be visible in the output"
      ]
    },
    {
      "cell_type": "code",
      "metadata": {
        "id": "QecyR8mmMFiX",
        "colab": {
          "base_uri": "https://localhost:8080/"
        },
        "outputId": "dd04ddbd-5e1c-4b0d-c83f-2efe82859138"
      },
      "source": [
        "# This is formatted as a comment\n",
        "print(\"This is not a comment\")"
      ],
      "execution_count": null,
      "outputs": [
        {
          "output_type": "stream",
          "text": [
            "This is not a comment\n"
          ],
          "name": "stdout"
        }
      ]
    },
    {
      "cell_type": "markdown",
      "metadata": {
        "id": "HWjlstj8geAw"
      },
      "source": [
        "Another important aspect is consistency. This includes things such as:\n",
        "- using tabs for indentation so they all match \n",
        "- always put variables in camelCase (where the first letter of each word is capitalized) or put them in snake_case (where there is an underscore between words)"
      ]
    },
    {
      "cell_type": "markdown",
      "metadata": {
        "id": "5vjixNa0TANf"
      },
      "source": [
        "# Program Input and Output\n",
        "\n",
        "Input is information that the user can provide to the program either by a prompt or with arguments to functions. \n",
        "\n",
        "Output is what is printed to the console for the user to be able to see.\n",
        "\n",
        "These concepts utilize Python's built in functions. This means that the function name and definition is saved within the python software and you don't need to define it yourself. You utilize a function by typing it's name followed by a set of round brackets that contain the appropriate arguments. \n",
        "\n",
        "Some examples of these functions that you will see used later on include:\n",
        "- print()\n",
        "- type()\n",
        "- input()"
      ]
    },
    {
      "cell_type": "markdown",
      "metadata": {
        "id": "DzEfPBQLTIGz"
      },
      "source": [
        "## Output: Print Statements"
      ]
    },
    {
      "cell_type": "markdown",
      "metadata": {
        "id": "BBmXJDlzj46O"
      },
      "source": [
        "The `print()` function allows us to type a message that we want to user to see when the program is executed. \n"
      ]
    },
    {
      "cell_type": "code",
      "metadata": {
        "id": "VHelRmFwMDfZ",
        "colab": {
          "base_uri": "https://localhost:8080/"
        },
        "outputId": "fd54a55f-7381-4fd9-a384-72af37db48f6"
      },
      "source": [
        "print(\"Hello World!\")"
      ],
      "execution_count": null,
      "outputs": [
        {
          "output_type": "stream",
          "text": [
            "Hello World!\n"
          ],
          "name": "stdout"
        }
      ]
    },
    {
      "cell_type": "markdown",
      "metadata": {
        "id": "HwfXnfl7PqVt"
      },
      "source": [
        "We can format our print statements by adding tabs or new lines by using these special characters:\n",
        "- To add a tab, use `\\t`\n",
        "- To add a new line, use `\\n`"
      ]
    },
    {
      "cell_type": "code",
      "metadata": {
        "id": "YprRwLT3Q9NN",
        "colab": {
          "base_uri": "https://localhost:8080/"
        },
        "outputId": "03d7b753-5d40-411d-ed68-28707fb6cea8"
      },
      "source": [
        "print(\"Hello\\tWord\")\n",
        "print(\"Hello\\nWorld\")"
      ],
      "execution_count": null,
      "outputs": [
        {
          "output_type": "stream",
          "text": [
            "Hello\tWord\n",
            "Hello\n",
            "World\n"
          ],
          "name": "stdout"
        }
      ]
    },
    {
      "cell_type": "markdown",
      "metadata": {
        "id": "qPJx4dpygWNb"
      },
      "source": [
        "## Input: Prompt User \n",
        "\n",
        "We can allow users to interact with our program by using the `input()` function. You can write a prompt in between the brackets to provide to the user.\n",
        "\n",
        "You can also save the answer the user provides by assigning it to a variable. We do this in python using the equal sign `=`. This means that we can use that variable to refer back to the user's answer later in our program."
      ]
    },
    {
      "cell_type": "code",
      "metadata": {
        "id": "Pd3s99LAMp2Z",
        "colab": {
          "base_uri": "https://localhost:8080/"
        },
        "outputId": "1a47ebf8-b97a-42dc-9917-df80d4352db8"
      },
      "source": [
        "# Prompting a user for input\n",
        "\n",
        "name = input(\"Enter your name: \")\n",
        "print(\"Hello\", name)"
      ],
      "execution_count": null,
      "outputs": [
        {
          "output_type": "stream",
          "text": [
            "Enter your name: Emily\n",
            "Hello Emily\n"
          ],
          "name": "stdout"
        }
      ]
    },
    {
      "cell_type": "markdown",
      "metadata": {
        "id": "PxEhahGwia2J"
      },
      "source": [
        "# Data Types"
      ]
    },
    {
      "cell_type": "markdown",
      "metadata": {
        "id": "WXBWAedvjGdi"
      },
      "source": [
        "## Basic Data Types"
      ]
    },
    {
      "cell_type": "markdown",
      "metadata": {
        "id": "5HoPQekLhhJD"
      },
      "source": [
        "In Python there are variables which are items that are given a name so they can be stored in memory.\n",
        "\n",
        "All of these variables can have specific types that help define what they are and what operations they can undergo.\n",
        "\n",
        "```\n",
        "# A string is any number or characters including punctuation and spaces that are surrounding by quotation marks\n",
        "\"Purple is my favourite Colour\"\n",
        "\n",
        "# An integer is any whole number \n",
        "1\n",
        "238\n",
        "846372\n",
        "\n",
        "# A float is any number that includes decimals\n",
        "5.27\n",
        "992.00\n",
        "\n",
        "# A boolean are the True & False keywords\n",
        "True\n",
        "False\n",
        "\n",
        "# A list is items contained with [ ] and separated by commas\n",
        "[\"Purple\", 238, 5.27, True]\n",
        "\n",
        "# A dictionary is a collection of key:value pairs, we can use the key to find it's matching value.\n",
        "{1: \"Purple\", 2: \"Yellow\", 3: \"Red\"}\n",
        "```\n",
        "\n",
        "It's important to think about what type of variable you are working with so you can apply the proper types to it."
      ]
    },
    {
      "cell_type": "code",
      "metadata": {
        "id": "FOgVDL-sLzSy",
        "colab": {
          "base_uri": "https://localhost:8080/"
        },
        "outputId": "255def67-396a-4c8e-9afb-9ac298c1c597"
      },
      "source": [
        "# First guess what the type should be and write it as a comment.\n",
        "# Then run the next block to see if you were right!\n",
        "\n",
        "a = 5\n",
        "\n",
        "b = 2.0\n",
        "\n",
        "print(a, \"is of type\", type(a))\n",
        "print(b, \"is of type\", type(b))"
      ],
      "execution_count": null,
      "outputs": [
        {
          "output_type": "stream",
          "text": [
            "5 is of type <class 'int'>\n",
            "2.0 is of type <class 'float'>\n"
          ],
          "name": "stdout"
        }
      ]
    },
    {
      "cell_type": "markdown",
      "metadata": {
        "id": "0xQKW2QkQhkL"
      },
      "source": [
        "## Type Casting\n",
        "\n",
        "In the previous section we learned about all of the different data types within Python. We saw how we can use the `type()` function in order to discover what type a value corresponds to. \n",
        "\n",
        "Sometimes we want to change what the type of a variable is and we can do that with **type casting**. \n",
        "\n",
        "By wrapping the variable you want to update, similar to how you would use a function, you can change it's type. \n",
        "\n",
        "- To change a variable to an int: use int()\n",
        "- To change a variable to a string: use str()\n",
        "- To change a variable to a float: float()"
      ]
    },
    {
      "cell_type": "code",
      "metadata": {
        "id": "DE0HaHeFofll",
        "colab": {
          "base_uri": "https://localhost:8080/"
        },
        "outputId": "339beb1e-017e-4ce5-de23-fb1385b1a70b"
      },
      "source": [
        "anInt = 890\n",
        "\n",
        "print(type(anInt))\n",
        "\n",
        "convertToString = str(anInt)\n",
        "\n",
        "print(type(convertToString))"
      ],
      "execution_count": null,
      "outputs": [
        {
          "output_type": "stream",
          "text": [
            "<class 'int'>\n",
            "<class 'str'>\n"
          ],
          "name": "stdout"
        }
      ]
    },
    {
      "cell_type": "markdown",
      "metadata": {
        "id": "w1-LaPuolOHP"
      },
      "source": [
        "## Lists\n",
        "\n",
        "Lists are iterable. This means that you can go through each element in the list and apply a function or logic so that all items have had the effect. \n",
        "\n",
        "Lists can also be indexed. That means that you can specify what item you want back by using it's position. It is possible to have duplicates within a list as well.\n",
        "\n",
        "Positive numbers mean that you are counting from the front of the list back and negative numbers mean you are counting from the back of the list forward."
      ]
    },
    {
      "cell_type": "code",
      "metadata": {
        "id": "nfMCTccRlKTW",
        "colab": {
          "base_uri": "https://localhost:8080/"
        },
        "outputId": "b2853a17-ad84-4703-c5c8-5a8d2ade2fe0"
      },
      "source": [
        "# List Indexing\n",
        "\n",
        "myList = [5, 6, 23, 94, 12]\n",
        "\n",
        "# What do you think the following indexes would output?\n",
        "\n",
        "print(myList[0])\n",
        "\n",
        "print(myList[-1])\n",
        "\n",
        "print(myList[3])"
      ],
      "execution_count": null,
      "outputs": [
        {
          "output_type": "stream",
          "text": [
            "5\n",
            "12\n",
            "94\n"
          ],
          "name": "stdout"
        }
      ]
    },
    {
      "cell_type": "markdown",
      "metadata": {
        "id": "CbY4CEs-pkki"
      },
      "source": [
        "You can also add to a list after it has already been created. This is done by using the `.append()` function.\n",
        "\n",
        "This function is different than the ones we've seen in earlier examples because we must supply a parameter within the brackets as well as before the command. \n",
        "\n",
        "`listOne.append(\"Hello\")`\n",
        "\n",
        "This line of code says that we are going to add the word `\"Hello\"` to the end of the list named `listOne`."
      ]
    },
    {
      "cell_type": "code",
      "metadata": {
        "id": "42y4ODtUqAEq",
        "colab": {
          "base_uri": "https://localhost:8080/"
        },
        "outputId": "8638ae91-3ad5-4570-8f9f-d30522793b5c"
      },
      "source": [
        "# Appending to a list\n",
        "listA = [1, 2, 3, 4]\n",
        "\n",
        "print(listA)\n",
        "\n",
        "# This line says:\n",
        "# Add the number 5 at the end of listA\n",
        "listA.append(5)\n",
        "\n",
        "print(listA)"
      ],
      "execution_count": null,
      "outputs": [
        {
          "output_type": "stream",
          "text": [
            "[1, 2, 3, 4]\n",
            "[1, 2, 3, 4, 5]\n"
          ],
          "name": "stdout"
        }
      ]
    },
    {
      "cell_type": "markdown",
      "metadata": {
        "id": "BP2OCrirzCD8"
      },
      "source": [
        "It's also possible to add one list to the end of another. We do this using `.extend()`."
      ]
    },
    {
      "cell_type": "code",
      "metadata": {
        "id": "FxjKRoQ7zBZE",
        "colab": {
          "base_uri": "https://localhost:8080/"
        },
        "outputId": "9c89d2c4-652d-496b-8465-5bc059d48f67"
      },
      "source": [
        "# Extending a list\n",
        "listA = [1, 2, 3, 4]\n",
        "listB = [5, 6, 7, 8]\n",
        "print(listA)\n",
        "\n",
        "listA.extend(listB)\n",
        "print(listA)"
      ],
      "execution_count": null,
      "outputs": [
        {
          "output_type": "stream",
          "text": [
            "[1, 2, 3, 4]\n",
            "[1, 2, 3, 4, 5, 6, 7, 8]\n"
          ],
          "name": "stdout"
        }
      ]
    },
    {
      "cell_type": "markdown",
      "metadata": {
        "id": "L0P42_bEdOUC"
      },
      "source": [
        "## Dictionaries\n",
        "\n",
        "Dictionaries are a collection of items that are matched in key-value pairs. They are unordered which means they can't be searched and indexed the way a list can be so instead we access information from them by knowing the key for the value we are looking for. \n",
        "\n",
        "We can search for a value using a key but we cannot search for a key using a value. Every key that exists within a dictionary must be unique, this means there can't be any duplicates.\n",
        "\n",
        "In python we use square brackets to define a list [] and for dictionaries we define them using curly brackets {}. \n",
        "\n",
        "Similarly we separate each of the individual items using a comma, where each item or key-value pair is entered in the following form, key:value. \n"
      ]
    },
    {
      "cell_type": "code",
      "metadata": {
        "id": "ejReR59wbmgz",
        "colab": {
          "base_uri": "https://localhost:8080/"
        },
        "outputId": "fd1e316f-559c-4f7f-fd49-f56f59ffb8e4"
      },
      "source": [
        "# Searching for a dictionary key\n",
        "myDictionary = {1: \"value\", \"key\": 2}\n",
        "\n",
        "# If I search for \"key\" it will return the value associated to that word\n",
        "print(myDictionary[\"key\"])"
      ],
      "execution_count": null,
      "outputs": [
        {
          "output_type": "stream",
          "text": [
            "2\n"
          ],
          "name": "stdout"
        }
      ]
    },
    {
      "cell_type": "markdown",
      "metadata": {
        "id": "SmZwQNZ8cCIH"
      },
      "source": [
        "Now let's try and example where you can guess the output before running the next cell."
      ]
    },
    {
      "cell_type": "code",
      "metadata": {
        "id": "eWTKUQhVcB6T",
        "colab": {
          "base_uri": "https://localhost:8080/"
        },
        "outputId": "ebb5a66d-f9d4-4ad9-d208-11a3896284a2"
      },
      "source": [
        "# Searching for multiple keys\n",
        "randomDictionary = {18: \"age\", 2021: \"year\", \"apple\": \"red\", \"banana\": \"yellow\", \"abc\": 123, \"favouriteNumber\": 972}\n",
        "\n",
        "print(randomDictionary[\"apple\"])\n",
        "\n",
        "print(randomDictionary[\"abc\"])\n",
        "\n",
        "print(randomDictionary[18])"
      ],
      "execution_count": null,
      "outputs": [
        {
          "output_type": "stream",
          "text": [
            "red\n",
            "123\n",
            "age\n"
          ],
          "name": "stdout"
        }
      ]
    },
    {
      "cell_type": "markdown",
      "metadata": {
        "id": "IYgILBn0rlyP"
      },
      "source": [
        "Similar to a list you can also add to a dictionary after it has already been created. \n",
        "\n",
        "Since dictionaries cannot have duplicates if you were to assign a different value to a key that already exists it would overwrite the previous value. \n"
      ]
    },
    {
      "cell_type": "code",
      "metadata": {
        "id": "6S-4cLFrslzn",
        "colab": {
          "base_uri": "https://localhost:8080/"
        },
        "outputId": "110b8cd8-5c56-44bd-8197-772e6aaa9bbd"
      },
      "source": [
        "fruitDictionary = {\"apple\": \"red\", \"banana\": \"yellow\"}\n",
        "\n",
        "# Add a value\n",
        "fruitDictionary[\"grapefruit\"] = \"pink\"\n",
        "print(fruitDictionary)\n",
        "\n",
        "# Overwrite a value\n",
        "fruitDictionary[\"apple\"] = \"green\"\n",
        "print(fruitDictionary)"
      ],
      "execution_count": null,
      "outputs": [
        {
          "output_type": "stream",
          "text": [
            "{'apple': 'red', 'banana': 'yellow', 'grapefruit': 'pink'}\n",
            "{'apple': 'green', 'banana': 'yellow', 'grapefruit': 'pink'}\n"
          ],
          "name": "stdout"
        }
      ]
    },
    {
      "cell_type": "markdown",
      "metadata": {
        "id": "S1pDDlgYeukL"
      },
      "source": [
        "# Operators\n",
        "\n",
        "**Operators** are special symbols that can be used to perform arithmetic and logical computations. We can use operators to evaluate mathematical expressions and make decision within our code. \n",
        "\n",
        "The symbols are called **operators**, and the values that the operator operates on are called **operands**.\n",
        "\n",
        "Let's check out some of the most common types of operators."
      ]
    },
    {
      "cell_type": "markdown",
      "metadata": {
        "id": "XemMa8osWHdv"
      },
      "source": [
        "## Arithmetic Operators"
      ]
    },
    {
      "cell_type": "markdown",
      "metadata": {
        "id": "YfeHH349WibX"
      },
      "source": [
        "Arithmetic operators are used to perform basic math. \n",
        "\n",
        "You can use multiple arithmetic operators in one statement, and just like regular math, these mathematical statements follow the order of BEDMAS.\n",
        "\n",
        "In this section, the terms *numeric values* and *numbers* refer to operands that are integers or floats. \n"
      ]
    },
    {
      "cell_type": "code",
      "metadata": {
        "id": "XEuxm-yNAOXH",
        "colab": {
          "base_uri": "https://localhost:8080/"
        },
        "outputId": "235dda2c-6fa7-447f-f655-28ac289a49e9"
      },
      "source": [
        "# Overview of arithmetic operators\n",
        "\n",
        "num1 = 10\n",
        "num2 = 5\n",
        "\n",
        "print(\"num1:\", num1)\n",
        "print(\"num2:\", num2)\n",
        "\n",
        "# Addition\n",
        "num3 = num1 + num2\n",
        "print(\"Addition: 10 + 5 =\", num3)\n",
        "\n",
        "# Subtraction\n",
        "num4 = num1 - num2\n",
        "print(\"Subtraction: 10 - 5 =\", num4)\n",
        "\n",
        "# Multiplication\n",
        "num5 = num1 * num2\n",
        "print(\"Multiplication: 10 * 5 =\", num5)\n",
        "\n",
        "# Exponents\n",
        "num6 = num1 ** num2\n",
        "print(\"Exponent: 10^5 =\", num6)\n",
        "\n",
        "# Modulus\n",
        "num7 = num1 % num2\n",
        "print(\"Modulus: 10 mod 5 =\", num7)\n",
        "\n",
        "# Simple division\n",
        "num8 = num1 / num2\n",
        "print(\"Division: 10 / 5 =\", num8)"
      ],
      "execution_count": null,
      "outputs": [
        {
          "output_type": "stream",
          "text": [
            "num1: 10\n",
            "num2: 5\n",
            "Addition: 10 + 5 = 15\n",
            "Subtraction: 10 - 5 = 5\n",
            "Multiplication: 10 * 5 = 50\n",
            "Exponent: 10^5 = 100000\n",
            "Modulus: 10 mod 5 = 0\n",
            "Division: 10 / 5 = 2.0\n"
          ],
          "name": "stdout"
        }
      ]
    },
    {
      "cell_type": "markdown",
      "metadata": {
        "id": "jM057ZC3ZF89"
      },
      "source": [
        "**Tip**: If you want to use the result of a math operation inside the round brackets of a function, you do not need to assign it to a variable. Instead, you can simply provide the operation as the parameter.\n"
      ]
    },
    {
      "cell_type": "code",
      "metadata": {
        "id": "V7zkdr7yZEmu",
        "colab": {
          "base_uri": "https://localhost:8080/"
        },
        "outputId": "9f9403a8-c657-4679-89c7-9c3a987d3e46"
      },
      "source": [
        "num1 = 1\n",
        "num2 = 2\n",
        "sum = 1 + 2\n",
        "\n",
        "# What will the following lines print?\n",
        "\n",
        "print(sum)\n",
        "print(num1 + num2)\n",
        "print(1 + 2)\n",
        "print(num1 + 2)"
      ],
      "execution_count": null,
      "outputs": [
        {
          "output_type": "stream",
          "text": [
            "3\n",
            "3\n",
            "3\n",
            "3\n"
          ],
          "name": "stdout"
        }
      ]
    },
    {
      "cell_type": "markdown",
      "metadata": {
        "id": "q61ovtMyZvPe"
      },
      "source": [
        "We can use multiple operators in one statement, and the order of operations will follow BEDMAS just like in traditional mathematics."
      ]
    },
    {
      "cell_type": "code",
      "metadata": {
        "id": "OGqUvzyJZ4Hc",
        "colab": {
          "base_uri": "https://localhost:8080/"
        },
        "outputId": "6b65675a-b833-42f4-a7ba-28fe871004b2"
      },
      "source": [
        "# Order of operations\n",
        "\n",
        "print(1 + 2 + 3)\n",
        "\n",
        "# What will the following lines print?\n",
        "\n",
        "print(2 + 5 * 2)\n",
        "print((2 + 5) * 2) # Hint: the operation inside the brackets will take precedence"
      ],
      "execution_count": null,
      "outputs": [
        {
          "output_type": "stream",
          "text": [
            "6\n",
            "12\n",
            "14\n"
          ],
          "name": "stdout"
        }
      ]
    },
    {
      "cell_type": "markdown",
      "metadata": {
        "id": "h0QppNPNRV-u"
      },
      "source": [
        "### Addition and concatenation: `+`\n",
        "\n",
        "We can use the `+` operator to add two numbers together or put two strings together."
      ]
    },
    {
      "cell_type": "markdown",
      "metadata": {
        "id": "wJ9ThYhBV8hH"
      },
      "source": [
        "We can add integers and floats together, including negative numbers. "
      ]
    },
    {
      "cell_type": "code",
      "metadata": {
        "id": "6wb2TcO7SHe_",
        "colab": {
          "base_uri": "https://localhost:8080/"
        },
        "outputId": "72966276-634a-4d72-d554-b90b1651ed3e"
      },
      "source": [
        "# Numeric Addition\n",
        "\n",
        "# Adding integers\n",
        "int1 = 10\n",
        "int2 = 20\n",
        "print(int1 + int2) # This will result in an integer value\n",
        "\n",
        "# Adding floats\n",
        "float1 = 2.5\n",
        "float2 = 3.66\n",
        "print(float1 + float2) # This will result in a float value"
      ],
      "execution_count": null,
      "outputs": [
        {
          "output_type": "stream",
          "text": [
            "30\n",
            "6.16\n"
          ],
          "name": "stdout"
        }
      ]
    },
    {
      "cell_type": "markdown",
      "metadata": {
        "id": "NbTBja2JSSB4"
      },
      "source": [
        "\n",
        "\n",
        "We can also use the + operator to combine strings together. This is called called **concatenation**. \n",
        "\n",
        "Concatenation **appends** a string to another string. This means that the resulting value will be equal to the combined operand strings in the order that the operands are presented."
      ]
    },
    {
      "cell_type": "code",
      "metadata": {
        "id": "dNttNw-YAON0",
        "colab": {
          "base_uri": "https://localhost:8080/"
        },
        "outputId": "1378de96-0915-4b32-92ac-03d32bc9fd05"
      },
      "source": [
        "# String concatenation\n",
        "\n",
        "hello_string = \"Hello\"\n",
        "world_string = \"World\"\n",
        "hello_word = hello_string + world_string\n",
        "\n",
        "print(hello_word)\n",
        "\n",
        "# If we don't need to store the concatenated string in a variable, we can:\n",
        "\n",
        "# Using multiple strings separated by a comma as a parameter to the print function\n",
        "# will automatically add spaces between the strings.\n",
        "print(hello_string, world_string) \n",
        "\n",
        "# Or use the + operator to add any characters we want\n",
        "print(hello_string + \" \" + world_string + \"!\")"
      ],
      "execution_count": null,
      "outputs": [
        {
          "output_type": "stream",
          "text": [
            "HelloWorld\n",
            "Hello World\n",
            "Hello World!\n"
          ],
          "name": "stdout"
        }
      ]
    },
    {
      "cell_type": "markdown",
      "metadata": {
        "id": "7IW61OKMDK1Y"
      },
      "source": [
        "Note that you cannot add two variables together if they are different data types, unless the variables are numeric such as floats and integers.\n",
        "\n"
      ]
    },
    {
      "cell_type": "code",
      "metadata": {
        "id": "Q-QZUTjQAOBp",
        "colab": {
          "base_uri": "https://localhost:8080/",
          "height": 198
        },
        "outputId": "c1f5287a-9f42-47b2-bb05-6992fb9239ea"
      },
      "source": [
        "# Invalid addition example: adding a string and numeric value\n",
        "\n",
        "str1 = \"hello\"\n",
        "num1 = 4\n",
        "\n",
        "# What do you think will happen when you uncomment the following line and run this code?\n",
        "print(str1 + num1)"
      ],
      "execution_count": null,
      "outputs": [
        {
          "output_type": "error",
          "ename": "TypeError",
          "evalue": "ignored",
          "traceback": [
            "\u001b[0;31m---------------------------------------------------------------------------\u001b[0m",
            "\u001b[0;31mTypeError\u001b[0m                                 Traceback (most recent call last)",
            "\u001b[0;32m<ipython-input-94-8889fbc57be5>\u001b[0m in \u001b[0;36m<module>\u001b[0;34m()\u001b[0m\n\u001b[1;32m      5\u001b[0m \u001b[0;34m\u001b[0m\u001b[0m\n\u001b[1;32m      6\u001b[0m \u001b[0;31m# What do you think will happen when you uncomment the following line and run this code?\u001b[0m\u001b[0;34m\u001b[0m\u001b[0;34m\u001b[0m\u001b[0;34m\u001b[0m\u001b[0m\n\u001b[0;32m----> 7\u001b[0;31m \u001b[0mprint\u001b[0m\u001b[0;34m(\u001b[0m\u001b[0mstr1\u001b[0m \u001b[0;34m+\u001b[0m \u001b[0mnum1\u001b[0m\u001b[0;34m)\u001b[0m\u001b[0;34m\u001b[0m\u001b[0;34m\u001b[0m\u001b[0m\n\u001b[0m",
            "\u001b[0;31mTypeError\u001b[0m: can only concatenate str (not \"int\") to str"
          ]
        }
      ]
    },
    {
      "cell_type": "markdown",
      "metadata": {
        "id": "1_-0-UgHR2k7"
      },
      "source": [
        "We can use type casting to get around this problem."
      ]
    },
    {
      "cell_type": "code",
      "metadata": {
        "id": "Sru1Lpe3R2Z9",
        "colab": {
          "base_uri": "https://localhost:8080/"
        },
        "outputId": "5630df5c-5951-4f74-a68f-7e7ac7fa0915"
      },
      "source": [
        "print(\"hello\" + str(4))"
      ],
      "execution_count": null,
      "outputs": [
        {
          "output_type": "stream",
          "text": [
            "hello4\n"
          ],
          "name": "stdout"
        }
      ]
    },
    {
      "cell_type": "code",
      "metadata": {
        "id": "rbCwNcUCSOmK",
        "colab": {
          "base_uri": "https://localhost:8080/"
        },
        "outputId": "51272a40-0aaf-4416-dac5-ba3a93ba57fb"
      },
      "source": [
        "str1 = \"4\"\n",
        "int1 = 12\n",
        "print(int(str1) + int1)"
      ],
      "execution_count": null,
      "outputs": [
        {
          "output_type": "stream",
          "text": [
            "16\n"
          ],
          "name": "stdout"
        }
      ]
    },
    {
      "cell_type": "markdown",
      "metadata": {
        "id": "ruTU0ykJvOWN"
      },
      "source": [
        "### Subtraction: `-`\n",
        "\n",
        "The `-` operator can be used to subtract numbers. Unlike the `+` operator, we cannot use `-` with strings or other non-numeric data types."
      ]
    },
    {
      "cell_type": "code",
      "metadata": {
        "id": "Ng_u7y8Fvfsz",
        "colab": {
          "base_uri": "https://localhost:8080/"
        },
        "outputId": "6334a073-4e13-47c7-9c0a-d3af954ab376"
      },
      "source": [
        "# Subtraction\n",
        "\n",
        "# Subtracting integers will result in an integer\n",
        "int_diff = 10 - 5\n",
        "print(int_diff)\n",
        "\n",
        "# Subtracting floats will result in a float\n",
        "float_diff = 10.5 - 2.75\n",
        "print(float_diff)\n",
        "\n",
        "# Subtracting integers from floats and vice versa will result in a float\n",
        "int_float_diff = 10 - 2.0\n",
        "print(int_float_diff)\n",
        "\n",
        "# We can get a negative value as an answer as well\n",
        "negative_diff = 2 - 10\n",
        "print(negative_diff)"
      ],
      "execution_count": null,
      "outputs": [
        {
          "output_type": "stream",
          "text": [
            "5\n",
            "7.75\n",
            "8.0\n",
            "-8\n"
          ],
          "name": "stdout"
        }
      ]
    },
    {
      "cell_type": "markdown",
      "metadata": {
        "id": "tXq08xmdvPUK"
      },
      "source": [
        "We cannot use the `-` operator with non-numeric data types. \n",
        "\n",
        "The following examples will throw an error:"
      ]
    },
    {
      "cell_type": "code",
      "metadata": {
        "id": "4KbeeBbXvyY0",
        "colab": {
          "base_uri": "https://localhost:8080/",
          "height": 215
        },
        "outputId": "1183255f-b882-4abc-91a7-ee09f6e7c52e"
      },
      "source": [
        "# Invalid subtraction example: attempting to subtract strings\n",
        "# Uncomment lines 7 and 8 to view the error\n",
        "\n",
        "rainbow_string = \"Rainbow\"\n",
        "bow_string = \"bow\"\n",
        "\n",
        "string_diff = rainbow_string - bow_string\n",
        "print(string_diff)"
      ],
      "execution_count": null,
      "outputs": [
        {
          "output_type": "error",
          "ename": "TypeError",
          "evalue": "ignored",
          "traceback": [
            "\u001b[0;31m---------------------------------------------------------------------------\u001b[0m",
            "\u001b[0;31mTypeError\u001b[0m                                 Traceback (most recent call last)",
            "\u001b[0;32m<ipython-input-98-e8a2e7756332>\u001b[0m in \u001b[0;36m<module>\u001b[0;34m()\u001b[0m\n\u001b[1;32m      5\u001b[0m \u001b[0mbow_string\u001b[0m \u001b[0;34m=\u001b[0m \u001b[0;34m\"bow\"\u001b[0m\u001b[0;34m\u001b[0m\u001b[0;34m\u001b[0m\u001b[0m\n\u001b[1;32m      6\u001b[0m \u001b[0;34m\u001b[0m\u001b[0m\n\u001b[0;32m----> 7\u001b[0;31m \u001b[0mstring_diff\u001b[0m \u001b[0;34m=\u001b[0m \u001b[0mrainbow_string\u001b[0m \u001b[0;34m-\u001b[0m \u001b[0mbow_string\u001b[0m\u001b[0;34m\u001b[0m\u001b[0;34m\u001b[0m\u001b[0m\n\u001b[0m\u001b[1;32m      8\u001b[0m \u001b[0mprint\u001b[0m\u001b[0;34m(\u001b[0m\u001b[0mstring_diff\u001b[0m\u001b[0;34m)\u001b[0m\u001b[0;34m\u001b[0m\u001b[0;34m\u001b[0m\u001b[0m\n",
            "\u001b[0;31mTypeError\u001b[0m: unsupported operand type(s) for -: 'str' and 'str'"
          ]
        }
      ]
    },
    {
      "cell_type": "code",
      "metadata": {
        "id": "M5Ym_5PgxMt7",
        "colab": {
          "base_uri": "https://localhost:8080/",
          "height": 215
        },
        "outputId": "81503652-baa8-4ff5-d0b0-90c28a7891b3"
      },
      "source": [
        "# Invalid subtraction example: attempting to subtract lists\n",
        "# Uncomment lines 7 and 8 to view the error\n",
        "\n",
        "my_list1 = ['dog', 'cat', 'fish']\n",
        "my_list2 = ['dog', 'cat']\n",
        "\n",
        "list_diff = my_list1 - my_list2\n",
        "print(list_diff)"
      ],
      "execution_count": null,
      "outputs": [
        {
          "output_type": "error",
          "ename": "TypeError",
          "evalue": "ignored",
          "traceback": [
            "\u001b[0;31m---------------------------------------------------------------------------\u001b[0m",
            "\u001b[0;31mTypeError\u001b[0m                                 Traceback (most recent call last)",
            "\u001b[0;32m<ipython-input-99-5efcebbea360>\u001b[0m in \u001b[0;36m<module>\u001b[0;34m()\u001b[0m\n\u001b[1;32m      5\u001b[0m \u001b[0mmy_list2\u001b[0m \u001b[0;34m=\u001b[0m \u001b[0;34m[\u001b[0m\u001b[0;34m'dog'\u001b[0m\u001b[0;34m,\u001b[0m \u001b[0;34m'cat'\u001b[0m\u001b[0;34m]\u001b[0m\u001b[0;34m\u001b[0m\u001b[0;34m\u001b[0m\u001b[0m\n\u001b[1;32m      6\u001b[0m \u001b[0;34m\u001b[0m\u001b[0m\n\u001b[0;32m----> 7\u001b[0;31m \u001b[0mlist_diff\u001b[0m \u001b[0;34m=\u001b[0m \u001b[0mmy_list1\u001b[0m \u001b[0;34m-\u001b[0m \u001b[0mmy_list2\u001b[0m\u001b[0;34m\u001b[0m\u001b[0;34m\u001b[0m\u001b[0m\n\u001b[0m\u001b[1;32m      8\u001b[0m \u001b[0mprint\u001b[0m\u001b[0;34m(\u001b[0m\u001b[0mlist_diff\u001b[0m\u001b[0;34m)\u001b[0m\u001b[0;34m\u001b[0m\u001b[0;34m\u001b[0m\u001b[0m\n",
            "\u001b[0;31mTypeError\u001b[0m: unsupported operand type(s) for -: 'list' and 'list'"
          ]
        }
      ]
    },
    {
      "cell_type": "markdown",
      "metadata": {
        "id": "OH9oPQBCyDa5"
      },
      "source": [
        "### Multiplication: `*`\n",
        "\n",
        "We can use the `*` operator to multiply numbers, multiply strings by an integer, and multiply lists by an integer."
      ]
    },
    {
      "cell_type": "code",
      "metadata": {
        "id": "cCG-F_AH0QZv",
        "colab": {
          "base_uri": "https://localhost:8080/"
        },
        "outputId": "3366d56f-87e2-4e84-9546-8171d6849db9"
      },
      "source": [
        "# Multiplication\n",
        "\n",
        "# Multiplying integers will result in an integer\n",
        "int_mult = 10 * 5\n",
        "print(int_mult)\n",
        "\n",
        "# Multiplying floats will result in a float\n",
        "float_mult = 10.5 * 2.275\n",
        "print(float_mult)\n",
        "\n",
        "# Multiplying integers from floats and vice versa will result in a float\n",
        "int_float_mult = 10 * 2.0\n",
        "print(int_float_mult)"
      ],
      "execution_count": null,
      "outputs": [
        {
          "output_type": "stream",
          "text": [
            "50\n",
            "23.8875\n",
            "20.0\n"
          ],
          "name": "stdout"
        }
      ]
    },
    {
      "cell_type": "markdown",
      "metadata": {
        "id": "_880M4rA3E5F"
      },
      "source": [
        "Recall that concatenation is the process of appending values together.\n",
        "\n",
        "Multiplying a **string** value by a **positive integer** value *n* results in a concatenated string with *n* repetitions.\n",
        "\n"
      ]
    },
    {
      "cell_type": "code",
      "metadata": {
        "id": "A9PqWUy9yQJL",
        "colab": {
          "base_uri": "https://localhost:8080/"
        },
        "outputId": "886f4702-8dab-41c9-9131-856604327411"
      },
      "source": [
        "# Multiplying a string by an integer will result in a string with repetitions\n",
        "\n",
        "hello_str = \"Hello\"\n",
        "repeating_str = hello_str * 5\n",
        "print(repeating_str)"
      ],
      "execution_count": null,
      "outputs": [
        {
          "output_type": "stream",
          "text": [
            "HelloHelloHelloHelloHello\n"
          ],
          "name": "stdout"
        }
      ]
    },
    {
      "cell_type": "markdown",
      "metadata": {
        "id": "R7NFnFpW06y_"
      },
      "source": [
        "Multiplying a **list** by a **positive integer** value *n* results in a new list containing the original list's elements appended *n* times.\n",
        "\n",
        "Similarly to the string example above, you cannot use the `*` operator between a list and a non-integer value."
      ]
    },
    {
      "cell_type": "code",
      "metadata": {
        "id": "1mXgsAj322wR",
        "colab": {
          "base_uri": "https://localhost:8080/"
        },
        "outputId": "e42593e9-2c06-4abd-a246-2c019ae28645"
      },
      "source": [
        "# Multiplying a list by an integer will result in a list with repeating elements\n",
        "\n",
        "my_list = [\"apple\", \"banana\", \"carrot\"]\n",
        "repeated_list = my_list * 3\n",
        "\n",
        "print(repeated_list)"
      ],
      "execution_count": null,
      "outputs": [
        {
          "output_type": "stream",
          "text": [
            "['apple', 'banana', 'carrot', 'apple', 'banana', 'carrot', 'apple', 'banana', 'carrot']\n"
          ],
          "name": "stdout"
        }
      ]
    },
    {
      "cell_type": "markdown",
      "metadata": {
        "id": "QXuq7B_w3KoF"
      },
      "source": [
        "You cannot multiply a non-numeric value by a non-integer value. \n",
        "\n"
      ]
    },
    {
      "cell_type": "code",
      "metadata": {
        "id": "dW5AXheK09di",
        "colab": {
          "base_uri": "https://localhost:8080/",
          "height": 198
        },
        "outputId": "2b90db1e-bb97-491c-c722-4a0eca05a7e1"
      },
      "source": [
        "# Invalid multiplication example: multiplying a string by a non-integer value\n",
        "# Uncomment line 5 to view the error\n",
        "\n",
        "hello_str = \"Hello\"\n",
        "print(hello_str * 2.5)"
      ],
      "execution_count": null,
      "outputs": [
        {
          "output_type": "error",
          "ename": "TypeError",
          "evalue": "ignored",
          "traceback": [
            "\u001b[0;31m---------------------------------------------------------------------------\u001b[0m",
            "\u001b[0;31mTypeError\u001b[0m                                 Traceback (most recent call last)",
            "\u001b[0;32m<ipython-input-103-1bfbbd4a3045>\u001b[0m in \u001b[0;36m<module>\u001b[0;34m()\u001b[0m\n\u001b[1;32m      3\u001b[0m \u001b[0;34m\u001b[0m\u001b[0m\n\u001b[1;32m      4\u001b[0m \u001b[0mhello_str\u001b[0m \u001b[0;34m=\u001b[0m \u001b[0;34m\"Hello\"\u001b[0m\u001b[0;34m\u001b[0m\u001b[0;34m\u001b[0m\u001b[0m\n\u001b[0;32m----> 5\u001b[0;31m \u001b[0mprint\u001b[0m\u001b[0;34m(\u001b[0m\u001b[0mhello_str\u001b[0m \u001b[0;34m*\u001b[0m \u001b[0;36m2.5\u001b[0m\u001b[0;34m)\u001b[0m\u001b[0;34m\u001b[0m\u001b[0;34m\u001b[0m\u001b[0m\n\u001b[0m",
            "\u001b[0;31mTypeError\u001b[0m: can't multiply sequence by non-int of type 'float'"
          ]
        }
      ]
    },
    {
      "cell_type": "code",
      "metadata": {
        "id": "hdDK06-v6av4",
        "colab": {
          "base_uri": "https://localhost:8080/",
          "height": 198
        },
        "outputId": "63219334-2e99-433a-a2fe-29253d1a3b68"
      },
      "source": [
        "# Invalid multiplication example: multiplying a list by a non-integer value\n",
        "# Uncomment line 5 to view the error\n",
        "\n",
        "my_list = [\"apple\", \"banana\", \"carrot\"]\n",
        "print(my_list * 2.5)"
      ],
      "execution_count": null,
      "outputs": [
        {
          "output_type": "error",
          "ename": "TypeError",
          "evalue": "ignored",
          "traceback": [
            "\u001b[0;31m---------------------------------------------------------------------------\u001b[0m",
            "\u001b[0;31mTypeError\u001b[0m                                 Traceback (most recent call last)",
            "\u001b[0;32m<ipython-input-104-15cd84058ab2>\u001b[0m in \u001b[0;36m<module>\u001b[0;34m()\u001b[0m\n\u001b[1;32m      3\u001b[0m \u001b[0;34m\u001b[0m\u001b[0m\n\u001b[1;32m      4\u001b[0m \u001b[0mmy_list\u001b[0m \u001b[0;34m=\u001b[0m \u001b[0;34m[\u001b[0m\u001b[0;34m\"apple\"\u001b[0m\u001b[0;34m,\u001b[0m \u001b[0;34m\"banana\"\u001b[0m\u001b[0;34m,\u001b[0m \u001b[0;34m\"carrot\"\u001b[0m\u001b[0;34m]\u001b[0m\u001b[0;34m\u001b[0m\u001b[0;34m\u001b[0m\u001b[0m\n\u001b[0;32m----> 5\u001b[0;31m \u001b[0mprint\u001b[0m\u001b[0;34m(\u001b[0m\u001b[0mmy_list\u001b[0m \u001b[0;34m*\u001b[0m \u001b[0;36m2.5\u001b[0m\u001b[0;34m)\u001b[0m\u001b[0;34m\u001b[0m\u001b[0;34m\u001b[0m\u001b[0m\n\u001b[0m",
            "\u001b[0;31mTypeError\u001b[0m: can't multiply sequence by non-int of type 'float'"
          ]
        }
      ]
    },
    {
      "cell_type": "markdown",
      "metadata": {
        "id": "2UkorN005cYe"
      },
      "source": [
        "The `*` operator cannot be used on dictionaries because dictionaries are not allowed to contain duplicate keys."
      ]
    },
    {
      "cell_type": "code",
      "metadata": {
        "id": "zZ0pI7AM5dR-",
        "colab": {
          "base_uri": "https://localhost:8080/",
          "height": 198
        },
        "outputId": "b2f064a5-cb02-4bc8-b356-9927333584f3"
      },
      "source": [
        "# Invalid multiplication example: multiplying a dictionary by an integer value\n",
        "# Uncomment line 5 to view the error\n",
        "\n",
        "my_dict = {\"a\": \"apple\", \"b\": \"banana\", \"c\": \"carrot\"}\n",
        "print(my_dict * 2)"
      ],
      "execution_count": null,
      "outputs": [
        {
          "output_type": "error",
          "ename": "TypeError",
          "evalue": "ignored",
          "traceback": [
            "\u001b[0;31m---------------------------------------------------------------------------\u001b[0m",
            "\u001b[0;31mTypeError\u001b[0m                                 Traceback (most recent call last)",
            "\u001b[0;32m<ipython-input-105-d0ac654dda16>\u001b[0m in \u001b[0;36m<module>\u001b[0;34m()\u001b[0m\n\u001b[1;32m      3\u001b[0m \u001b[0;34m\u001b[0m\u001b[0m\n\u001b[1;32m      4\u001b[0m \u001b[0mmy_dict\u001b[0m \u001b[0;34m=\u001b[0m \u001b[0;34m{\u001b[0m\u001b[0;34m\"a\"\u001b[0m\u001b[0;34m:\u001b[0m \u001b[0;34m\"apple\"\u001b[0m\u001b[0;34m,\u001b[0m \u001b[0;34m\"b\"\u001b[0m\u001b[0;34m:\u001b[0m \u001b[0;34m\"banana\"\u001b[0m\u001b[0;34m,\u001b[0m \u001b[0;34m\"c\"\u001b[0m\u001b[0;34m:\u001b[0m \u001b[0;34m\"carrot\"\u001b[0m\u001b[0;34m}\u001b[0m\u001b[0;34m\u001b[0m\u001b[0;34m\u001b[0m\u001b[0m\n\u001b[0;32m----> 5\u001b[0;31m \u001b[0mprint\u001b[0m\u001b[0;34m(\u001b[0m\u001b[0mmy_dict\u001b[0m \u001b[0;34m*\u001b[0m \u001b[0;36m2\u001b[0m\u001b[0;34m)\u001b[0m\u001b[0;34m\u001b[0m\u001b[0;34m\u001b[0m\u001b[0m\n\u001b[0m",
            "\u001b[0;31mTypeError\u001b[0m: unsupported operand type(s) for *: 'dict' and 'int'"
          ]
        }
      ]
    },
    {
      "cell_type": "markdown",
      "metadata": {
        "id": "U53AO_ZuyNIk"
      },
      "source": [
        "### Division: `/` and `//`\n",
        "\n",
        "**The `/` operator is used to divide numeric values.**\n",
        "\n",
        "Performing this operation with two positive or negative numeric operands will always result in a **float**, even if both operands are integers. "
      ]
    },
    {
      "cell_type": "markdown",
      "metadata": {
        "id": "niELiDDZ4q5w"
      },
      "source": [
        "**The `//` operator is used to divide numeric values and round the result down to the nearest integer.**\n",
        "\n",
        "If we want to ensure that the result of a division operation returns an **integer**, we can use the `//` operator to perform **floor division**.\n",
        "\n",
        "This operator performs regular division and then rounds the float value **down** to the nearest integer."
      ]
    },
    {
      "cell_type": "markdown",
      "metadata": {
        "id": "R3CNRssUENSN"
      },
      "source": [
        "Let's try dividing some numbers to see what happens.\n"
      ]
    },
    {
      "cell_type": "code",
      "metadata": {
        "id": "QtlfMydbFGAd",
        "colab": {
          "base_uri": "https://localhost:8080/"
        },
        "outputId": "9a27cfb7-19de-4a6e-b63a-05cdc891e47c"
      },
      "source": [
        "# Simple division\n",
        "\n",
        "int1 = 10\n",
        "int2 = 4\n",
        "\n",
        "simple_division1 = int1 / int2 \n",
        "simple_division2 = int2 / int1\n",
        "\n",
        "# What do you think the following lines will print?\n",
        "\n",
        "print(\"Simple division:\")\n",
        "print(\"10 / 4 =\", simple_division1)\n",
        "print(\"4 / 10 =\", simple_division2)"
      ],
      "execution_count": null,
      "outputs": [
        {
          "output_type": "stream",
          "text": [
            "Simple division:\n",
            "10 / 4 = 2.5\n",
            "4 / 10 = 0.4\n"
          ],
          "name": "stdout"
        }
      ]
    },
    {
      "cell_type": "markdown",
      "metadata": {
        "id": "vvkzKkqc7Xad"
      },
      "source": [
        "Now let's try performing floor division with the same numbers we used in the previous example."
      ]
    },
    {
      "cell_type": "code",
      "metadata": {
        "id": "lm9OuKle5oHD",
        "colab": {
          "base_uri": "https://localhost:8080/"
        },
        "outputId": "c7caee10-be04-45c8-9777-b08cbb173e7d"
      },
      "source": [
        "# Floor division\n",
        "\n",
        "int1 = 10\n",
        "int2 = 4\n",
        "\n",
        "floor_division1 = int1 // int2\n",
        "floor_division2 = int2 // int1\n",
        "\n",
        "# What do you think the following lines will print?\n",
        "\n",
        "print(\"Floor division:\")\n",
        "print(\"10 // 4 =\", floor_division1)\n",
        "print(\"4 // 10 =\", floor_division2)"
      ],
      "execution_count": null,
      "outputs": [
        {
          "output_type": "stream",
          "text": [
            "Floor division:\n",
            "10 // 4 = 2\n",
            "4 // 10 = 0\n"
          ],
          "name": "stdout"
        }
      ]
    },
    {
      "cell_type": "markdown",
      "metadata": {
        "id": "8Ro7XoXcEM2Q"
      },
      "source": [
        "### Other arithmetic operators\n",
        "\n",
        "Now we have covered all of the most commonly used arithmetic operators.\n",
        "\n",
        "The following operators are beyond the scope of this introductory Python workshop, but we will briefly take a look at them."
      ]
    },
    {
      "cell_type": "markdown",
      "metadata": {
        "id": "PCUwHiJX81pi"
      },
      "source": [
        "**Exponent**: `**`\n",
        "\n",
        "The `**` operator raises the left operand to the power of the right operand. This operator can only be used with numeric values.\n",
        "\n",
        "For example, the expression *x* \\*\\* *y* can be read as \"*x* to the power of *y*.\""
      ]
    },
    {
      "cell_type": "code",
      "metadata": {
        "id": "QV1Oep8b9LXH",
        "colab": {
          "base_uri": "https://localhost:8080/"
        },
        "outputId": "9050909f-7c40-4fd4-93db-5b7e1b1dc044"
      },
      "source": [
        "# Exponentiation\n",
        "\n",
        "print(2 ** 3)"
      ],
      "execution_count": null,
      "outputs": [
        {
          "output_type": "stream",
          "text": [
            "8\n"
          ],
          "name": "stdout"
        }
      ]
    },
    {
      "cell_type": "markdown",
      "metadata": {
        "id": "MJy3jLjs95hK"
      },
      "source": [
        "**Modulus**: `%`\n",
        "\n",
        "The `%` operator returns the **remainder of a division operation** between two numeric values. In mathematics, this is referred to as the *modulus* or *mod* function.\n",
        "\n",
        "The expression *x* % *y* can be read as \"the remainder of *x* divided by *y*.\""
      ]
    },
    {
      "cell_type": "code",
      "metadata": {
        "id": "nZIWEsVc-0S6",
        "colab": {
          "base_uri": "https://localhost:8080/"
        },
        "outputId": "56e6d62a-7017-4a4b-8788-8c0d55531158"
      },
      "source": [
        "# Modulus\n",
        "\n",
        "print(10 % 4)"
      ],
      "execution_count": null,
      "outputs": [
        {
          "output_type": "stream",
          "text": [
            "2\n"
          ],
          "name": "stdout"
        }
      ]
    },
    {
      "cell_type": "markdown",
      "metadata": {
        "id": "7oYrImsZ_QK_"
      },
      "source": [
        "### Shorthand Notation\n",
        "\n",
        "When we store a value in a variable, sometimes it is useful to directly update that variable by performing a mathematical operation on the value it currently holds.\n"
      ]
    },
    {
      "cell_type": "markdown",
      "metadata": {
        "id": "DvkVHxFUAj-H"
      },
      "source": [
        "**Summary of Compound Operators**\n",
        "\n",
        "* `x += 1` is equivalent to `x = x + 1`  \n",
        "* `x -= 2` is equivalent to `x = x - 2`  \n",
        "* `x *= 3` is equivalent to `x = x * 3`   \n",
        "* `x /= 4` is equivalent to `x = x + 4`  \n",
        "* `x //= 5` is equivalent to `x = x // 5`   \n",
        "* `x **= 6` is equivalent to `x = x ** 6`    \n",
        "* `x %= 7` is equivalent to `x = x % 7` "
      ]
    },
    {
      "cell_type": "markdown",
      "metadata": {
        "id": "M36Rpdv08s9i"
      },
      "source": [
        "## Comparison Operators\n",
        "\n",
        "Comparison operators are used to compare values. These operators will return a boolean value `True` or `False` based on whether the condition is met or not.\n",
        "\n"
      ]
    },
    {
      "cell_type": "markdown",
      "metadata": {
        "id": "2oMAP_0y-ys-"
      },
      "source": [
        "**Equal to: `==`**\n",
        "\n",
        "Returns true if the left operand is equal to right operand. If they are not equal, it will return false. Be careful not to confuse this with a single `=`, which is used to assign variables!\n",
        "\n",
        "The `==` operator can be used on all data types, and it can also be used on mathematical operations."
      ]
    },
    {
      "cell_type": "code",
      "metadata": {
        "id": "ksShEYbC_Ngz",
        "colab": {
          "base_uri": "https://localhost:8080/"
        },
        "outputId": "046ed7c0-e090-4a90-f5dd-8a617e0e8fa3"
      },
      "source": [
        "# Equals\n",
        "\n",
        "# Numeric values\n",
        "print(3 == 100)\n",
        "print(2.5 == 2.5)\n",
        "\n",
        "# Strings\n",
        "print(\"Bob\" == \"Bob\")\n",
        "\n",
        "# Lists\n",
        "list1 = [\"a\", \"b\"]\n",
        "list2 = [\"c\", \"d\"]\n",
        "print(list1 == list1)\n",
        "print(list1 == list2)\n",
        "\n",
        "# Dictionaries\n",
        "my_dict = {\"a\": \"apple\", \"b\": \"banana\", \"c\": \"carrot\"}\n",
        "my_dict1 = {\"a\": \"apple\", \"b\": \"banana\", \"c1\": \"carrot\"}\n",
        "print(my_dict == my_dict)\n",
        "print(my_dict == my_dict1)\n",
        "\n",
        "# Mathematical operations\n",
        "print(3 * 4 == 2 * 6)"
      ],
      "execution_count": null,
      "outputs": [
        {
          "output_type": "stream",
          "text": [
            "False\n",
            "True\n",
            "True\n",
            "True\n",
            "False\n",
            "True\n",
            "False\n",
            "True\n"
          ],
          "name": "stdout"
        }
      ]
    },
    {
      "cell_type": "markdown",
      "metadata": {
        "id": "If7R5rkY_Qrg"
      },
      "source": [
        "**Not equal to: `!=`**\n",
        "Returns true if the left operand does not equal the right operand. If they are equal, it will return false."
      ]
    },
    {
      "cell_type": "code",
      "metadata": {
        "id": "pFbSlBP2_P6D",
        "colab": {
          "base_uri": "https://localhost:8080/"
        },
        "outputId": "bc914913-1661-4b5c-fe32-ef73b6103127"
      },
      "source": [
        "# Not equals\n",
        "\n",
        "# Numeric values\n",
        "print(3 != 100)\n",
        "print(2.5 != 2.5)\n",
        "\n",
        "# Strings\n",
        "print(\"Bob\" != \"Mary\")\n",
        "\n",
        "# Lists\n",
        "list1 = [\"a\", \"b\"]\n",
        "list2 = [\"c\", \"d\"]\n",
        "print(list1 != list1)\n",
        "print(list1 != list2)\n",
        "\n",
        "# Dictionaries\n",
        "my_dict = {\"a\": \"apple\", \"b\": \"banana\", \"c\": \"carrot\"}\n",
        "my_dict1 = {\"a\": \"apple\", \"b\": \"banana\", \"c1\": \"carrot\"}\n",
        "print(my_dict != my_dict)\n",
        "print(my_dict != my_dict1)\n",
        "\n",
        "# Mathematical operations\n",
        "print(3 * 4 != 2 * 6)"
      ],
      "execution_count": null,
      "outputs": [
        {
          "output_type": "stream",
          "text": [
            "True\n",
            "False\n",
            "True\n",
            "False\n",
            "True\n",
            "False\n",
            "True\n",
            "False\n"
          ],
          "name": "stdout"
        }
      ]
    },
    {
      "cell_type": "markdown",
      "metadata": {
        "id": "kz0RDSbw9Y0_"
      },
      "source": [
        "\n",
        "**Greater Than: `>`**\n",
        "Returns true if the left operand is greater than the right operand. If not, it will return false.\n",
        "\n",
        "**Greater Than or Equal To: `>=`**\n",
        "Returns true if the left operand is greater than or equal to the right operand. If not, it will return false."
      ]
    },
    {
      "cell_type": "code",
      "metadata": {
        "id": "Ff51GxDS8slM",
        "colab": {
          "base_uri": "https://localhost:8080/"
        },
        "outputId": "f3781429-f15c-40b9-f0ba-7387c642d8e5"
      },
      "source": [
        "# Greater Than\n",
        "print(3 > 100) \n",
        "print(10 > 2.5)\n",
        "print(10 > 10)\n",
        "\n",
        "# Greater Than or Equal To\n",
        "print(3 >= 100) \n",
        "print(10 >= 2.5)\n",
        "print(10 >= 10)"
      ],
      "execution_count": null,
      "outputs": [
        {
          "output_type": "stream",
          "text": [
            "False\n",
            "True\n",
            "False\n",
            "False\n",
            "True\n",
            "True\n"
          ],
          "name": "stdout"
        }
      ]
    },
    {
      "cell_type": "markdown",
      "metadata": {
        "id": "k7uM1jvL9pBw"
      },
      "source": [
        "**Less Than: `<`**\n",
        "Reurns true if the left operand is less than the right operand. If not, it will return false.\n",
        "\n",
        "**Less Than or Equal To: `<=`**\n",
        "Reurns true if the left operand is less than or equal to the right operand. If not, it will return false."
      ]
    },
    {
      "cell_type": "code",
      "metadata": {
        "id": "wHMdYoM_9rjp",
        "colab": {
          "base_uri": "https://localhost:8080/"
        },
        "outputId": "2e9f0350-c968-4146-d333-bef731df9a49"
      },
      "source": [
        "# Less Than\n",
        "print(3 < 100) \n",
        "print(10 < 2.5)\n",
        "print(10 < 10)\n",
        "\n",
        "# Less Than or Equal To\n",
        "print(3 <= 100) \n",
        "print(10 <= 2.5)\n",
        "print(10 <= 10)"
      ],
      "execution_count": null,
      "outputs": [
        {
          "output_type": "stream",
          "text": [
            "True\n",
            "False\n",
            "False\n",
            "True\n",
            "False\n",
            "True\n"
          ],
          "name": "stdout"
        }
      ]
    },
    {
      "cell_type": "markdown",
      "metadata": {
        "id": "Pw6xx3tdAo24"
      },
      "source": [
        "## Logical Operators \n",
        "\n",
        "The logical operators `and`, `or`, and `not` are used to determine if multiple conditions are met."
      ]
    },
    {
      "cell_type": "code",
      "metadata": {
        "colab": {
          "base_uri": "https://localhost:8080/"
        },
        "id": "sekV_uHT02i4",
        "outputId": "e09f8585-b368-4cf1-daa8-d50edf292df6"
      },
      "source": [
        "# Logical Operators\n",
        "\n",
        "x = 2 > 3 # This is False\n",
        "y = 3 + 3 == 12 / 2 # This is True\n",
        "\n",
        "print(x and y)\n",
        "print(x or y)\n",
        "print(not x)\n",
        "print(not y)"
      ],
      "execution_count": null,
      "outputs": [
        {
          "output_type": "stream",
          "text": [
            "False\n",
            "True\n",
            "True\n",
            "False\n"
          ],
          "name": "stdout"
        }
      ]
    },
    {
      "cell_type": "markdown",
      "metadata": {
        "id": "wEGfoL991dQV"
      },
      "source": [
        "## Membership Operators\n",
        "\n",
        "The membership operators `in` and `not in` are used to see whether or not an object contains another object."
      ]
    },
    {
      "cell_type": "code",
      "metadata": {
        "id": "kd5r6aG31m0V"
      },
      "source": [
        "# Membership Operators\n",
        "\n",
        "my_list = [\"a\", \"b\", \"c\"]\n",
        "user_input = input(\"Enter a letter: \")\n",
        "\n",
        "if (user_input in my_list):\n",
        "  print(\"Your letter is in the list!\")\n",
        "elif (user_input not in my_list):\n",
        "  print(\"That letter is not in the list!\")"
      ],
      "execution_count": null,
      "outputs": []
    },
    {
      "cell_type": "markdown",
      "metadata": {
        "id": "l4c1uKVA14XA"
      },
      "source": [
        "Now let's try combining logical and membership operators."
      ]
    },
    {
      "cell_type": "code",
      "metadata": {
        "colab": {
          "base_uri": "https://localhost:8080/"
        },
        "id": "vvyGimpD1C6N",
        "outputId": "73a410d3-9e54-4b07-ac5f-ebbfdb420d39"
      },
      "source": [
        "# Example of logical and membership operators\n",
        "\n",
        "my_list = [\"a\", \"b\", \"c\"]\n",
        "if (\"x\" in my_list and \"a\" in my_list):\n",
        "  print(\"x and a are both in the list!\")\n",
        "elif (\"x\" in my_list or \"a\" in my_list):\n",
        "  print(\"either x or a is in my_list, but not both!\")\n",
        "else:\n",
        "  print(\"x and a are not in in my_list!\")\n",
        "\n",
        "if (\"x\" not in my_list and \"a\" in my_list):\n",
        "  print(\"x isn't in my_list, but a is in my_list!\")"
      ],
      "execution_count": null,
      "outputs": [
        {
          "output_type": "stream",
          "text": [
            "either x or a is in my_list, but not both!\n",
            "x isn't in my_list, but a is in my_list!\n"
          ],
          "name": "stdout"
        }
      ]
    },
    {
      "cell_type": "markdown",
      "metadata": {
        "id": "7GPn4nJPkWzv"
      },
      "source": [
        "# Flow Control\n",
        "\n",
        "Up until now, every line of code in each of our examples was executed.\n",
        "\n",
        "Sometimes we want certain parts of our code to be executed only if certain conditions are satisfied. This concept is called **flow control**. \n",
        "\n",
        "There are three main types of statements that we can use to accomplish this:\n",
        "- If...else statements\n",
        "- For loops\n",
        "- While loops"
      ]
    },
    {
      "cell_type": "markdown",
      "metadata": {
        "id": "B4c16mD7B43p"
      },
      "source": [
        "## If...else Statements \n",
        "\n",
        "If we want to run certain parts of code based on whether a condition is true or false, we can use `if`...`else` statements. \n",
        "\n",
        "Everything written under the `if` statement (i.e. the body) will be executed only if the expression is evaluated as true. Otherwise, that code will be skipped."
      ]
    },
    {
      "cell_type": "code",
      "metadata": {
        "id": "4nEXUesc23XZ",
        "colab": {
          "base_uri": "https://localhost:8080/"
        },
        "outputId": "ef608d62-d3ed-47e2-9bea-7914a6ef849e"
      },
      "source": [
        "# If statement\n",
        "\n",
        "if (100 > 20):\n",
        "  print(\"This statement will be printed\")\n",
        "\n",
        "if (2 + 3 != 5):\n",
        "  print(\"This statement will not be printed\")"
      ],
      "execution_count": null,
      "outputs": [
        {
          "output_type": "stream",
          "text": [
            "This statement will be printed\n"
          ],
          "name": "stdout"
        }
      ]
    },
    {
      "cell_type": "markdown",
      "metadata": {
        "id": "5_dX0fIn4NNt"
      },
      "source": [
        "We can use the `else` statement to handle the case where the `if` statement is not met."
      ]
    },
    {
      "cell_type": "code",
      "metadata": {
        "id": "_kgvNR9_4O03",
        "colab": {
          "base_uri": "https://localhost:8080/"
        },
        "outputId": "ed47fbe7-8205-44aa-d4fd-c04358bb7b77"
      },
      "source": [
        "# If...else \n",
        "\n",
        "if (100 < 20):\n",
        "  print(\"The statement was true!\")\n",
        "else:\n",
        "  print(\"The statement was false!\")"
      ],
      "execution_count": null,
      "outputs": [
        {
          "output_type": "stream",
          "text": [
            "The statement was false!\n"
          ],
          "name": "stdout"
        }
      ]
    },
    {
      "cell_type": "markdown",
      "metadata": {
        "id": "tolcxjuB4k5V"
      },
      "source": [
        "We can be even more specific by using an `elif` statement, which stands for `else if`. Multiple `elif` statements can be used at one. "
      ]
    },
    {
      "cell_type": "code",
      "metadata": {
        "id": "aJQV8Dtg3E0i",
        "colab": {
          "base_uri": "https://localhost:8080/"
        },
        "outputId": "8f13b435-f078-4a5a-cae2-77a17e560216"
      },
      "source": [
        "# If...elif...else\n",
        "\n",
        "# Challenge: Change the values of num1 and num2 to execute different parts of this code!\n",
        "\n",
        "num1 = 14\n",
        "num2 = 1\n",
        "\n",
        "if (num1 + num2 < 10):\n",
        "  print(\"The if statement was executed\")\n",
        "elif (num1 + num2 == 15):\n",
        "  print(\"The first elif statement was executed\")\n",
        "elif (num1 + num2 == 20):\n",
        "  print(\"The second elif statement was executed\")\n",
        "else:\n",
        "  print(\"The else statement was executed because none of the above conditions were met\")"
      ],
      "execution_count": null,
      "outputs": [
        {
          "output_type": "stream",
          "text": [
            "The first elif statement was executed\n"
          ],
          "name": "stdout"
        }
      ]
    },
    {
      "cell_type": "markdown",
      "metadata": {
        "id": "KI5gQLb3C4v5"
      },
      "source": [
        "We can also put `if` statements inside othere `if` statements. These are called **nested `if` statements**.\n",
        "\n",
        "Pay close attention to your indentation when using nested statements!"
      ]
    },
    {
      "cell_type": "code",
      "metadata": {
        "id": "xDjCyhtNDJJX",
        "colab": {
          "base_uri": "https://localhost:8080/"
        },
        "outputId": "69344dc0-5cca-46f7-cfe0-dd0c12ee8f2b"
      },
      "source": [
        "# Nested if statements\n",
        "\n",
        "# Challenge: Change the value of num to execute different parts of this code!\n",
        "\n",
        "num = 4\n",
        "\n",
        "if num != 0:\n",
        "  if num > 0:\n",
        "    print(\"The number is positive\")\n",
        "  else:\n",
        "    print(\"The number is negative\")\n",
        "else:\n",
        "  print(\"The number is 0\")\n",
        "\n"
      ],
      "execution_count": null,
      "outputs": [
        {
          "output_type": "stream",
          "text": [
            "The number is positive\n"
          ],
          "name": "stdout"
        }
      ]
    },
    {
      "cell_type": "markdown",
      "metadata": {
        "id": "L9W33ZeFCKB8"
      },
      "source": [
        "## For loops"
      ]
    },
    {
      "cell_type": "markdown",
      "metadata": {
        "id": "vPzrWvwmCMd8"
      },
      "source": [
        "The **for loop** is used to iterate over a sequence of values and perform some actions on each of them. You can use it with specific data types such as **strings**, **lists**, and **dictionaries**. \n",
        "\n",
        "*Iterating* over an object means that each individual item inside the object will be operated on sequentially. For lists, each iteration will look at one element at a time. For strings, each iteration will look at one character at a time. "
      ]
    },
    {
      "cell_type": "code",
      "metadata": {
        "id": "v1aV_hWME8Qv",
        "colab": {
          "base_uri": "https://localhost:8080/"
        },
        "outputId": "5140c10f-f718-4a41-b558-1ed1dc849855"
      },
      "source": [
        "# Iterating over a list\n",
        "\n",
        "pet_list = [\"dog\", \"cat\", \"fish\", \"hamster\"]\n",
        "\n",
        "for pet in pet_list:\n",
        "  print(\"I have a \" + pet)"
      ],
      "execution_count": null,
      "outputs": [
        {
          "output_type": "stream",
          "text": [
            "I have a dog\n",
            "I have a cat\n",
            "I have a fish\n",
            "I have a hamster\n"
          ],
          "name": "stdout"
        }
      ]
    },
    {
      "cell_type": "code",
      "metadata": {
        "id": "ksokXQ6HFT-4",
        "colab": {
          "base_uri": "https://localhost:8080/"
        },
        "outputId": "d3c1f97a-8db2-44a4-af5e-6c0b28ebabad"
      },
      "source": [
        "# Iterating over a string\n",
        "\n",
        "hello_world = \"Hello World!\"\n",
        "\n",
        "for character in hello_world:\n",
        "  print(character)"
      ],
      "execution_count": null,
      "outputs": [
        {
          "output_type": "stream",
          "text": [
            "H\n",
            "e\n",
            "l\n",
            "l\n",
            "o\n",
            " \n",
            "W\n",
            "o\n",
            "r\n",
            "l\n",
            "d\n",
            "!\n"
          ],
          "name": "stdout"
        }
      ]
    },
    {
      "cell_type": "markdown",
      "metadata": {
        "id": "wPCK3sVzGUE6"
      },
      "source": [
        "When iterating over a dictionary, the variable after the \"for\" refers to the *key* of items inside the dictionary. We can then reference the values correspondinig to the keys with regular dictionary notation. Let's see how we can use this:"
      ]
    },
    {
      "cell_type": "code",
      "metadata": {
        "id": "Y60qJx45Fiu5",
        "colab": {
          "base_uri": "https://localhost:8080/"
        },
        "outputId": "ffe9a535-b8aa-4953-9497-c486e5db0882"
      },
      "source": [
        "# Iterating over a dict\n",
        "\n",
        "pet_dict = {\"dog\": \"a\", \"cat\": \"b\", \"fish\": \"c\", \"hamster\": \"d\"}\n",
        "\n",
        "for pet in pet_dict.keys():\n",
        "  print(\"I have a \" + pet + \" named \" + pet_dict[pet])"
      ],
      "execution_count": null,
      "outputs": [
        {
          "output_type": "stream",
          "text": [
            "I have a dog named a\n",
            "I have a cat named b\n",
            "I have a fish named c\n",
            "I have a hamster named d\n"
          ],
          "name": "stdout"
        }
      ]
    },
    {
      "cell_type": "markdown",
      "metadata": {
        "id": "dRoN-R1PFTRV"
      },
      "source": [
        "Sometimes we want to perform some operation a specific number of times. In order to use the *for* loop with integer values, we have to use the function `range(number_of_repetitions)`.\n",
        " \n",
        "This function computes the range of numbers between 0 and `number_of_repetitions`, but the value won't actually contain the number `number_of_repetitions` itself since the range starts at 0 instead of 1.\n",
        "\n",
        "Let's take a look at this function's behaviour:"
      ]
    },
    {
      "cell_type": "code",
      "metadata": {
        "id": "H7Z5zCpGbBAA",
        "colab": {
          "base_uri": "https://localhost:8080/"
        },
        "outputId": "1cc45065-6e59-41c0-b1c5-23a26ced9650"
      },
      "source": [
        "# For loop\n",
        "\n",
        "number = 10\n",
        "\n",
        "for number in range(number):\n",
        "  print(number)"
      ],
      "execution_count": null,
      "outputs": [
        {
          "output_type": "stream",
          "text": [
            "0\n",
            "1\n",
            "2\n",
            "3\n",
            "4\n",
            "5\n",
            "6\n",
            "7\n",
            "8\n",
            "9\n"
          ],
          "name": "stdout"
        }
      ]
    },
    {
      "cell_type": "markdown",
      "metadata": {
        "id": "Xc_sIGPYgMZF"
      },
      "source": [
        "## While Loops\n",
        "\n",
        "The **while loop** is used to perform some actions only while a specified condition is `True`. You can use it with specific data types such as **strings**, **lists**, and **dictionaries**. \n",
        "\n",
        "If the condition given in the `while` statement is `True`, the body of the while loop will be executed. After the code is completed, the `while` condition is evaluated again. This process is repeated until the `while` condition is evaluated as `False`.\n",
        "\n",
        "Because of this, it is extremely important to ensure that the body of your while loop contains an **exit condition**. This means that your program has to evalue to False."
      ]
    },
    {
      "cell_type": "code",
      "metadata": {
        "id": "wm8acoOqeVBs",
        "colab": {
          "base_uri": "https://localhost:8080/"
        },
        "outputId": "0cea1628-ee36-4975-add5-ddfff1a446b4"
      },
      "source": [
        "# While loop\n",
        "\n",
        "num1 = 4\n",
        "num2 = 12\n",
        "\n",
        "while (num1 < num2):\n",
        "  print(num1)\n",
        "  num1 = num1 + 1"
      ],
      "execution_count": null,
      "outputs": [
        {
          "output_type": "stream",
          "text": [
            "4\n",
            "5\n",
            "6\n",
            "7\n",
            "8\n",
            "9\n",
            "10\n",
            "11\n"
          ],
          "name": "stdout"
        }
      ]
    },
    {
      "cell_type": "code",
      "metadata": {
        "id": "0mphJ4XtNsU3"
      },
      "source": [
        "# An infinite loop - be careful to avoid this!\n",
        "\n",
        "while True:\n",
        "  print(\".\")"
      ],
      "execution_count": null,
      "outputs": []
    },
    {
      "cell_type": "markdown",
      "metadata": {
        "id": "7u3tJG3uDO1V"
      },
      "source": [
        "## Combining user input with flow control\n",
        "\n",
        "Now that we've covered the basics, let's try to combine what you learned!\n",
        "\n"
      ]
    },
    {
      "cell_type": "code",
      "metadata": {
        "id": "42ZTN8NKDgDO",
        "colab": {
          "base_uri": "https://localhost:8080/"
        },
        "outputId": "5c66e094-6943-4250-af5b-0b85c5f78d7e"
      },
      "source": [
        "first_name = input(\"Enter your first name: \")\n",
        "last_name = input(\"Enter your last name: \")\n",
        "\n",
        "full_name = first_name + \" \" + last_name\n",
        "print(\"Hello\", full_name)"
      ],
      "execution_count": null,
      "outputs": [
        {
          "output_type": "stream",
          "text": [
            "Enter your first name: 10\n",
            "Enter your last name: 6\n",
            "Hello 10 6\n"
          ],
          "name": "stdout"
        }
      ]
    },
    {
      "cell_type": "markdown",
      "metadata": {
        "id": "lg0uYgq0NeLD"
      },
      "source": [
        "By default, the data type of a user's input is a **string**, even if they enter numeric values (such as integers or floats) or boolean values (`true` or `false`). We can **cast** the input to a different data type so we can perform operations on it. We'll see how this works in the following example."
      ]
    },
    {
      "cell_type": "markdown",
      "metadata": {
        "id": "us8qeIkCDhFs"
      },
      "source": [
        "Let's see how comparison operators can be used with user input:"
      ]
    },
    {
      "cell_type": "code",
      "metadata": {
        "id": "YXYRX-d_Ndt3",
        "colab": {
          "base_uri": "https://localhost:8080/",
          "height": 249
        },
        "outputId": "f78068e6-3044-4aa3-8751-5bfa489496e0"
      },
      "source": [
        "# Running this code will cause an error\n",
        "\n",
        "age = input(\"Enter your age: \")\n",
        "\n",
        "# Let's see what happens when we try to use arithmetic operations on this user input:\n",
        "if(age < 16): # Uncomment this line!\n",
        "  print(\"Sorry, looks like you can't drive yet!\")\n",
        "else:\n",
        "  print(\"Time to hit the road!\")\n"
      ],
      "execution_count": null,
      "outputs": [
        {
          "output_type": "stream",
          "text": [
            "Enter your age: 50\n"
          ],
          "name": "stdout"
        },
        {
          "output_type": "error",
          "ename": "TypeError",
          "evalue": "ignored",
          "traceback": [
            "\u001b[0;31m---------------------------------------------------------------------------\u001b[0m",
            "\u001b[0;31mTypeError\u001b[0m                                 Traceback (most recent call last)",
            "\u001b[0;32m<ipython-input-134-be24dc7b1232>\u001b[0m in \u001b[0;36m<module>\u001b[0;34m()\u001b[0m\n\u001b[1;32m      4\u001b[0m \u001b[0;34m\u001b[0m\u001b[0m\n\u001b[1;32m      5\u001b[0m \u001b[0;31m# Let's see what happens when we try to use arithmetic operations on this user input:\u001b[0m\u001b[0;34m\u001b[0m\u001b[0;34m\u001b[0m\u001b[0;34m\u001b[0m\u001b[0m\n\u001b[0;32m----> 6\u001b[0;31m \u001b[0;32mif\u001b[0m\u001b[0;34m(\u001b[0m\u001b[0mage\u001b[0m \u001b[0;34m<\u001b[0m \u001b[0;36m16\u001b[0m\u001b[0;34m)\u001b[0m\u001b[0;34m:\u001b[0m \u001b[0;31m# Uncomment this line!\u001b[0m\u001b[0;34m\u001b[0m\u001b[0;34m\u001b[0m\u001b[0m\n\u001b[0m\u001b[1;32m      7\u001b[0m   \u001b[0mprint\u001b[0m\u001b[0;34m(\u001b[0m\u001b[0;34m\"Sorry, looks like you can't drive yet!\"\u001b[0m\u001b[0;34m)\u001b[0m\u001b[0;34m\u001b[0m\u001b[0;34m\u001b[0m\u001b[0m\n\u001b[1;32m      8\u001b[0m \u001b[0;32melse\u001b[0m\u001b[0;34m:\u001b[0m\u001b[0;34m\u001b[0m\u001b[0;34m\u001b[0m\u001b[0m\n",
            "\u001b[0;31mTypeError\u001b[0m: '<' not supported between instances of 'str' and 'int'"
          ]
        }
      ]
    },
    {
      "cell_type": "code",
      "metadata": {
        "id": "epBALuHaRNcU",
        "colab": {
          "base_uri": "https://localhost:8080/"
        },
        "outputId": "5b7b5c57-ccaf-4fda-a390-9b3c158a9ce5"
      },
      "source": [
        "# Now let's try casting the input to an integer so we can perform operations on it\n",
        "\n",
        "age = int(input(\"Enter your age: \"))\n",
        "\n",
        "if(age < 16):\n",
        "  print(\"Sorry, looks like you can't drive yet!\")\n",
        "else:\n",
        "  print(\"Time to hit the road!\")\n"
      ],
      "execution_count": null,
      "outputs": [
        {
          "output_type": "stream",
          "text": [
            "Enter your age: 50\n",
            "Time to hit the road!\n"
          ],
          "name": "stdout"
        }
      ]
    },
    {
      "cell_type": "code",
      "metadata": {
        "id": "1sjZlRAQDga7",
        "colab": {
          "base_uri": "https://localhost:8080/"
        },
        "outputId": "16290dd3-8d6c-4170-85e8-4b4be24bc52e"
      },
      "source": [
        "# This code will accept an integer as input.\n",
        "\n",
        "magic_number = 7\n",
        "\n",
        "guess = int(input(\"Try to guess the magic number! \"))\n",
        "if (guess == magic_number):\n",
        "    print(\"Congratulations You got it!\")\n",
        "elif (guess < magic_number):\n",
        "    print(\"Your number is too low\")   \n",
        "else:\n",
        "    print(\"Your number is too high!\")\n",
        "\n",
        "# Notice that we didn't need to perform the \"greater than\" comparison here.\n",
        "# This is because we already covered all other possibilities\n",
        "# (if the number was equal or too small)"
      ],
      "execution_count": null,
      "outputs": [
        {
          "output_type": "stream",
          "text": [
            "Try to guess the magic number! 10\n",
            "Your number is too high!\n"
          ],
          "name": "stdout"
        }
      ]
    },
    {
      "cell_type": "markdown",
      "metadata": {
        "id": "xYVAego108sb"
      },
      "source": [
        "Now let's see how we can use `for` and `while` loops with user input:"
      ]
    },
    {
      "cell_type": "code",
      "metadata": {
        "id": "ky01_XQszh7W",
        "colab": {
          "base_uri": "https://localhost:8080/"
        },
        "outputId": "4f2dd110-ef9f-4d0c-f90f-33dc4ab5d692"
      },
      "source": [
        "# For loop\n",
        "user_number = int(input(\"Enter a number: \"))\n",
        "\n",
        "for number in range(user_number):\n",
        "  print(number)"
      ],
      "execution_count": null,
      "outputs": [
        {
          "output_type": "stream",
          "text": [
            "Enter a number: 4\n",
            "0\n",
            "1\n",
            "2\n",
            "3\n"
          ],
          "name": "stdout"
        }
      ]
    },
    {
      "cell_type": "code",
      "metadata": {
        "id": "KVN-HJ0l7aO4",
        "colab": {
          "base_uri": "https://localhost:8080/"
        },
        "outputId": "400040c7-6f04-46b0-f253-7d3ba54401cf"
      },
      "source": [
        "# While loop\n",
        "\n",
        "user_number = int(input(\"Enter a number: \"))\n",
        "\n",
        "counter = 0\n",
        "while (counter < user_number):\n",
        "  print(counter)\n",
        "  counter = counter + 1"
      ],
      "execution_count": null,
      "outputs": [
        {
          "output_type": "stream",
          "text": [
            "Enter a number: 4\n",
            "0\n",
            "1\n",
            "2\n",
            "3\n"
          ],
          "name": "stdout"
        }
      ]
    },
    {
      "cell_type": "markdown",
      "metadata": {
        "id": "3xryUAgQglGi"
      },
      "source": [
        "# Writing Functions\n",
        "\n",
        "A function is a way to group specific code lines together so that they perform a specific task when they are called. \n",
        "\n",
        "Functions make our program more organized because it lets us reuse a function over again by only calling it's name rather than copying all of the lines of code multiple times in different places. \n",
        "\n",
        "Functions can accept parameters which are variables that are used within the code of the function and it can return a value as well so it can be used in other parts of the program.\n",
        "\n"
      ]
    },
    {
      "cell_type": "markdown",
      "metadata": {
        "id": "VP2wF8XBg6_S"
      },
      "source": [
        "## Function Structure\n",
        "\n",
        "Every function will have a specific name. That name is what we will use to call it later on. When we call a function that means the code uses the function name and parameters within it such that it executes the function and performs the task it is built for.\n",
        "\n",
        "\n",
        "```\n",
        "def function_name(parameters):\n",
        "    lines of code\n",
        "\n",
        "    return True\n",
        "```\n",
        "\n",
        "- The keyword `def` marks that it is the start of a new function. \n",
        "- The function name is whatever unique identifier you choose. Most of the time it is a short description of the task the function performs.\n",
        "- Parameters are supplied in brackets but are optional.\n",
        "- The return statement can give back a value from the function so it can be used in other areas.\n",
        "\n",
        "\n",
        "It is important to remember that for a code line to be included in the function it has to be indented so that it shows up \"underneath\" or \"inside\" of the function definition header. This is normally done with a single tab."
      ]
    },
    {
      "cell_type": "code",
      "metadata": {
        "id": "LSZmEhdWpFma",
        "colab": {
          "base_uri": "https://localhost:8080/"
        },
        "outputId": "bea6ed4a-7054-4d3a-e9d3-873c0772feec"
      },
      "source": [
        "# Example\n",
        "\n",
        "def age(birth_year):\n",
        "  \"\"\"\n",
        "  This function takes the user's birth year and returns their age\n",
        "  \"\"\"\n",
        "\n",
        "  current_year = 2021\n",
        "  user_age = current_year - birth_year \n",
        "\n",
        "  print(\"You are \" + str(user_age) + \" years old!\")\n",
        "\n",
        "\n",
        "# Now we call it so that we can see the output\n",
        "\n",
        "age(1999)\n"
      ],
      "execution_count": null,
      "outputs": [
        {
          "output_type": "stream",
          "text": [
            "You are 22 years old!\n"
          ],
          "name": "stdout"
        }
      ]
    },
    {
      "cell_type": "markdown",
      "metadata": {
        "id": "_Djzotxptzo7"
      },
      "source": [
        "Indentation is very important! Anything you want included in your function has to be indented underneath otherwise the function won't know it belongs and issues will occur! This is the same concept as if statements and loops.\n"
      ]
    },
    {
      "cell_type": "code",
      "metadata": {
        "id": "cmzi3C5WuAeh",
        "colab": {
          "base_uri": "https://localhost:8080/",
          "height": 130
        },
        "outputId": "aafbd3fc-db68-4eb9-c499-8d9de01ce3ed"
      },
      "source": [
        "# Error related to indentation level\n",
        "def age(birth_year):\n",
        "  \"\"\"\n",
        "  This function takes the user's birth year and returns their age\n",
        "  \"\"\"\n",
        "\n",
        "current_year = 2021\n",
        "  user_age = current_year - birth_year \n",
        "\n",
        "  print(\"You are \" + str(user_age) + \" years old!\")"
      ],
      "execution_count": null,
      "outputs": [
        {
          "output_type": "error",
          "ename": "IndentationError",
          "evalue": "ignored",
          "traceback": [
            "\u001b[0;36m  File \u001b[0;32m\"<ipython-input-141-6e0d23b4a4f8>\"\u001b[0;36m, line \u001b[0;32m8\u001b[0m\n\u001b[0;31m    user_age = current_year - birth_year\u001b[0m\n\u001b[0m    ^\u001b[0m\n\u001b[0;31mIndentationError\u001b[0m\u001b[0;31m:\u001b[0m unexpected indent\n"
          ]
        }
      ]
    },
    {
      "cell_type": "code",
      "metadata": {
        "id": "Vl-r15slw_Je",
        "colab": {
          "base_uri": "https://localhost:8080/",
          "height": 198
        },
        "outputId": "a93839c5-f680-4b97-9a35-16df23599568"
      },
      "source": [
        "# Error related to unknown variable since it isn't defined outside the function\n",
        "def age(birth_year):\n",
        "  \"\"\"\n",
        "  This function takes the user's birth year and returns their age\n",
        "  \"\"\"\n",
        "\n",
        "  current_year = 2021\n",
        "  user_age = current_year - birth_year \n",
        "\n",
        "print(\"You are \" + str(user_age) + \" years old!\")"
      ],
      "execution_count": null,
      "outputs": [
        {
          "output_type": "error",
          "ename": "NameError",
          "evalue": "ignored",
          "traceback": [
            "\u001b[0;31m---------------------------------------------------------------------------\u001b[0m",
            "\u001b[0;31mNameError\u001b[0m                                 Traceback (most recent call last)",
            "\u001b[0;32m<ipython-input-142-e23732c73dba>\u001b[0m in \u001b[0;36m<module>\u001b[0;34m()\u001b[0m\n\u001b[1;32m      8\u001b[0m   \u001b[0muser_age\u001b[0m \u001b[0;34m=\u001b[0m \u001b[0mcurrent_year\u001b[0m \u001b[0;34m-\u001b[0m \u001b[0mbirth_year\u001b[0m\u001b[0;34m\u001b[0m\u001b[0;34m\u001b[0m\u001b[0m\n\u001b[1;32m      9\u001b[0m \u001b[0;34m\u001b[0m\u001b[0m\n\u001b[0;32m---> 10\u001b[0;31m \u001b[0mprint\u001b[0m\u001b[0;34m(\u001b[0m\u001b[0;34m\"You are \"\u001b[0m \u001b[0;34m+\u001b[0m \u001b[0mstr\u001b[0m\u001b[0;34m(\u001b[0m\u001b[0muser_age\u001b[0m\u001b[0;34m)\u001b[0m \u001b[0;34m+\u001b[0m \u001b[0;34m\" years old!\"\u001b[0m\u001b[0;34m)\u001b[0m\u001b[0;34m\u001b[0m\u001b[0;34m\u001b[0m\u001b[0m\n\u001b[0m",
            "\u001b[0;31mNameError\u001b[0m: name 'user_age' is not defined"
          ]
        }
      ]
    },
    {
      "cell_type": "markdown",
      "metadata": {
        "id": "p9unlTwedf3l"
      },
      "source": [
        "## Function Parameters\n",
        "Parameters are values that are passed into the function so that it can be used within the code of the function. \n",
        "\n",
        "It is necessary to call the function with all the required parameters otherwise it will fail. This means if you define your function to have 2 variables but you only specify one it will not work. \n",
        "\n"
      ]
    },
    {
      "cell_type": "code",
      "metadata": {
        "id": "plGlUe1Ilcnw",
        "colab": {
          "base_uri": "https://localhost:8080/",
          "height": 198
        },
        "outputId": "4f473de1-80f3-4c1a-d12d-837c25cdbaac"
      },
      "source": [
        "# Purposely Broken Example\n",
        "\n",
        "def favouriteThings(colour, food):\n",
        "  \n",
        "  print(\"Your favourite colour is: \", colour)\n",
        "\n",
        "  print(\"Your favourite food is: \", food)\n",
        "\n",
        "# If you only call the function with a colour it will fail\n",
        "# Try running this block you will see an example error\n",
        "favouriteThings(\"blue\")"
      ],
      "execution_count": null,
      "outputs": [
        {
          "output_type": "error",
          "ename": "TypeError",
          "evalue": "ignored",
          "traceback": [
            "\u001b[0;31m---------------------------------------------------------------------------\u001b[0m",
            "\u001b[0;31mTypeError\u001b[0m                                 Traceback (most recent call last)",
            "\u001b[0;32m<ipython-input-143-541cb35450d8>\u001b[0m in \u001b[0;36m<module>\u001b[0;34m()\u001b[0m\n\u001b[1;32m      9\u001b[0m \u001b[0;31m# If you only call the function with a colour it will fail\u001b[0m\u001b[0;34m\u001b[0m\u001b[0;34m\u001b[0m\u001b[0;34m\u001b[0m\u001b[0m\n\u001b[1;32m     10\u001b[0m \u001b[0;31m# Try running this block you will see an example error\u001b[0m\u001b[0;34m\u001b[0m\u001b[0;34m\u001b[0m\u001b[0;34m\u001b[0m\u001b[0m\n\u001b[0;32m---> 11\u001b[0;31m \u001b[0mfavouriteThings\u001b[0m\u001b[0;34m(\u001b[0m\u001b[0;34m\"blue\"\u001b[0m\u001b[0;34m)\u001b[0m\u001b[0;34m\u001b[0m\u001b[0;34m\u001b[0m\u001b[0m\n\u001b[0m",
            "\u001b[0;31mTypeError\u001b[0m: favouriteThings() missing 1 required positional argument: 'food'"
          ]
        }
      ]
    },
    {
      "cell_type": "code",
      "metadata": {
        "id": "mZJHBShyotiO",
        "colab": {
          "base_uri": "https://localhost:8080/"
        },
        "outputId": "320f3fcb-df85-4c0a-ae54-18097fa1ba29"
      },
      "source": [
        "# Working Example \n",
        "\n",
        "def favouriteThings(colour, food):\n",
        "    \n",
        "    print(\"Your favourite colour is: \", colour)\n",
        "\n",
        "    print(\"Your favourite food is: \", food)\n",
        "\n",
        "favouriteThings(\"blue\", \"pizza\")"
      ],
      "execution_count": null,
      "outputs": [
        {
          "output_type": "stream",
          "text": [
            "Your favourite colour is:  blue\n",
            "Your favourite food is:  pizza\n"
          ],
          "name": "stdout"
        }
      ]
    },
    {
      "cell_type": "markdown",
      "metadata": {
        "id": "se9RRskjn3-v"
      },
      "source": [
        "If you run into a scenario where the value that is passed in as a parameter is usually a specific value you can choose to use a default value.\n",
        "\n",
        "A default value is when you set the variable equal to something so that the value is automatically selected and provided to the function. If you suddenly want to supply a different value that is still possible! If you supply the function definition with the value you would like it will override the default. \n",
        "\n",
        "Default arguments should always be at the end of the parameter list."
      ]
    },
    {
      "cell_type": "code",
      "metadata": {
        "id": "tGghef09o0VM",
        "colab": {
          "base_uri": "https://localhost:8080/"
        },
        "outputId": "50357faa-4612-4e06-c442-61dc39f04d71"
      },
      "source": [
        "# Here you can see that the default of pizza will be printed\n",
        "def favouriteThings(colour, food=\"pizza\"):\n",
        "    \n",
        "  print(\"Your favourite colour is: \", colour)\n",
        "  print(\"Your favourite food is: \", food)\n",
        "\n",
        "print(\"Example #1\")\n",
        "favouriteThings(\"blue\")\n",
        "\n",
        "# Here I will override that with the variable I want to be used instead\n",
        "def favouriteThings(colour, food=\"pizza\"):\n",
        "    \n",
        "  print(\"Your favourite colour is: \", colour)\n",
        "  print(\"Your favourite food is: \", food)\n",
        "\n",
        "print(\"Example #2\")\n",
        "favouriteThings(\"blue\", \"pasta\")"
      ],
      "execution_count": null,
      "outputs": [
        {
          "output_type": "stream",
          "text": [
            "Example #1\n",
            "Your favourite colour is:  blue\n",
            "Your favourite food is:  pizza\n",
            "Example #2\n",
            "Your favourite colour is:  blue\n",
            "Your favourite food is:  pasta\n"
          ],
          "name": "stdout"
        }
      ]
    },
    {
      "cell_type": "markdown",
      "metadata": {
        "id": "MfK6uCmbhV6X"
      },
      "source": [
        "## Return Values\n",
        "\n",
        "The above example uses a `print` statement so that the user sees the answer whenever the function is called but we could instead use a `return` statement. A return statement would hold the value in memory instead of printing to the screen. This is valuable when you are doing intermediate calculations that the user doesn't need since they only want the end result."
      ]
    },
    {
      "cell_type": "code",
      "metadata": {
        "id": "TsH4khHohLvw",
        "colab": {
          "base_uri": "https://localhost:8080/"
        },
        "outputId": "507f0ab5-7eef-48ba-df20-05f25e79dd0b"
      },
      "source": [
        "# Example\n",
        "\n",
        "def age(birth_year):\n",
        "  \"\"\"\n",
        "  This function takes the user's birth year and returns their age\n",
        "  \"\"\"\n",
        "\n",
        "  current_year = 2021\n",
        "  user_age = current_year - birth_year \n",
        "\n",
        "  return \"You are \" + str(user_age) + \" years old!\"\n",
        "\n",
        "\n",
        "# Now we call it we see on the first line there isn't an output\n",
        "# For the second when the print statement is added it works\n",
        "age(1999)\n",
        "\n",
        "print(age(1999))\n",
        "\n",
        "# You can also set the function equal to a variable and the data will be stored in that variable!\n",
        "\n",
        "your_age = age(1999)\n",
        "print(your_age)"
      ],
      "execution_count": null,
      "outputs": [
        {
          "output_type": "stream",
          "text": [
            "You are 22 years old!\n",
            "You are 22 years old!\n"
          ],
          "name": "stdout"
        }
      ]
    },
    {
      "cell_type": "markdown",
      "metadata": {
        "id": "pTX7DROyur4h"
      },
      "source": [
        "## Pass Statement\n",
        "\n",
        "When planning your program you may want to name all of the functions you will be using without filling each of them out right away.\n",
        "\n",
        "That is where a pass statement is important. It allows you to tell the program that it should skip this portion of the code. "
      ]
    },
    {
      "cell_type": "code",
      "metadata": {
        "id": "vcEMiUHgvEuc"
      },
      "source": [
        "def working_function():\n",
        "  pass"
      ],
      "execution_count": null,
      "outputs": []
    },
    {
      "cell_type": "code",
      "metadata": {
        "id": "7Zui8pDuvADu",
        "colab": {
          "base_uri": "https://localhost:8080/",
          "height": 130
        },
        "outputId": "0eff8d89-c6cf-4fc9-9088-62b0d403ef1a"
      },
      "source": [
        "def broken_function():"
      ],
      "execution_count": null,
      "outputs": [
        {
          "output_type": "error",
          "ename": "SyntaxError",
          "evalue": "ignored",
          "traceback": [
            "\u001b[0;36m  File \u001b[0;32m\"<ipython-input-148-b071f3d0166c>\"\u001b[0;36m, line \u001b[0;32m1\u001b[0m\n\u001b[0;31m    def broken_function():\u001b[0m\n\u001b[0m                          ^\u001b[0m\n\u001b[0;31mSyntaxError\u001b[0m\u001b[0;31m:\u001b[0m unexpected EOF while parsing\n"
          ]
        }
      ]
    },
    {
      "cell_type": "markdown",
      "metadata": {
        "id": "737fDN3fgtZw"
      },
      "source": [
        "## Main Function\n",
        "\n",
        "The main function is a unique part of every program since it is used as the defined starting point of any program.\n",
        "\n",
        "The first part is similar to other functions where we define it and place the code inside for anything we want to be run. It is unique that it shouldn't have parameters in the definition, and it will normally contain all of the other function calls for the functions within the program. \n",
        "\n",
        "It is essentially where we organize the flow of the program as a whole and therefore execute all tasks whereas the other functions focus on executing a specific task of the program.\n",
        "\n",
        "The main function looks like this:\n",
        "\n",
        "```\n",
        "def main():\n",
        "  print(\"Hello World!\")\n",
        "```\n",
        "\n",
        "It is executed using the following conditional:\n",
        "\n",
        "```\n",
        "if __name__ == \"__main__\":\n",
        "  main()\n",
        "```\n",
        "\n",
        "\n",
        "\n"
      ]
    }
  ]
}
